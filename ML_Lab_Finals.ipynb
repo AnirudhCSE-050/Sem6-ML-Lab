{
  "nbformat": 4,
  "nbformat_minor": 0,
  "metadata": {
    "colab": {
      "provenance": [],
      "authorship_tag": "ABX9TyMWm5qblgvmegpu9baKfAY7",
      "include_colab_link": true
    },
    "kernelspec": {
      "name": "python3",
      "display_name": "Python 3"
    },
    "language_info": {
      "name": "python"
    }
  },
  "cells": [
    {
      "cell_type": "markdown",
      "metadata": {
        "id": "view-in-github",
        "colab_type": "text"
      },
      "source": [
        "<a href=\"https://colab.research.google.com/github/AnirudhCSE-050/Sem6-ML-Lab/blob/main/ML_Lab_Finals.ipynb\" target=\"_parent\"><img src=\"https://colab.research.google.com/assets/colab-badge.svg\" alt=\"Open In Colab\"/></a>"
      ]
    },
    {
      "cell_type": "code",
      "execution_count": 7,
      "metadata": {
        "colab": {
          "base_uri": "https://localhost:8080/"
        },
        "id": "CoaZMyFS451R",
        "outputId": "bbf00987-a761-479a-db23-56172518e7e0"
      },
      "outputs": [
        {
          "output_type": "stream",
          "name": "stdout",
          "text": [
            "\n",
            "SVM Performance Metrics:\n",
            "Accuracy: 0.9467\n",
            "Precision: 0.9490\n",
            "Recall: 0.9467\n",
            "F1-Score: 0.9471\n",
            "\n",
            "Classification Report for SVM:\n",
            "              precision    recall  f1-score   support\n",
            "\n",
            "      setosa       1.00      0.96      0.98        28\n",
            "  versicolor       0.89      0.96      0.92        25\n",
            "   virginica       0.95      0.91      0.93        22\n",
            "\n",
            "    accuracy                           0.95        75\n",
            "   macro avg       0.95      0.94      0.95        75\n",
            "weighted avg       0.95      0.95      0.95        75\n",
            "\n",
            "\n",
            "Random Forest Performance Metrics:\n",
            "Accuracy: 0.9733\n",
            "Precision: 0.9733\n",
            "Recall: 0.9733\n",
            "F1-Score: 0.9733\n",
            "\n",
            "Classification Report for Random Forest:\n",
            "              precision    recall  f1-score   support\n",
            "\n",
            "      setosa       1.00      1.00      1.00        28\n",
            "  versicolor       0.96      0.96      0.96        25\n",
            "   virginica       0.95      0.95      0.95        22\n",
            "\n",
            "    accuracy                           0.97        75\n",
            "   macro avg       0.97      0.97      0.97        75\n",
            "weighted avg       0.97      0.97      0.97        75\n",
            "\n",
            "\n",
            "Model Comparison Summary:\n",
            "SVM Accuracy: 0.9467\n",
            "Random Forest Accuracy: 0.9733\n"
          ]
        }
      ],
      "source": [
        "from sklearn.datasets import load_iris\n",
        "from sklearn.model_selection import train_test_split\n",
        "from sklearn.preprocessing import StandardScaler\n",
        "from sklearn.svm import SVC\n",
        "from sklearn.ensemble import RandomForestClassifier\n",
        "from sklearn.metrics import accuracy_score, precision_score, recall_score, f1_score, classification_report\n",
        "import pandas as pd\n",
        "import numpy as np\n",
        "\n",
        "iris = load_iris()\n",
        "X = iris.data\n",
        "y = iris.target\n",
        "\n",
        "# Split the data into training and testing sets\n",
        "X_train, X_test, y_train, y_test = train_test_split(X, y, test_size=0.5, random_state=200)\n",
        "\n",
        "# Standardize the features\n",
        "scaler = StandardScaler()\n",
        "X_train = scaler.fit_transform(X_train)\n",
        "X_test = scaler.transform(X_test)\n",
        "\n",
        "# Initialize models\n",
        "svm_model = SVC(kernel='rbf', random_state=42)\n",
        "rf_model = RandomForestClassifier(n_estimators=100, random_state=42)\n",
        "\n",
        "# Train models\n",
        "svm_model.fit(X_train, y_train)\n",
        "rf_model.fit(X_train, y_train)\n",
        "\n",
        "# Make predictions\n",
        "svm_pred = svm_model.predict(X_test)\n",
        "rf_pred = rf_model.predict(X_test)\n",
        "\n",
        "# Function to evaluate and print metrics\n",
        "def evaluate_model(y_true, y_pred, model_name):\n",
        "    accuracy = accuracy_score(y_true, y_pred)\n",
        "    precision = precision_score(y_true, y_pred, average='weighted')\n",
        "    recall = recall_score(y_true, y_pred, average='weighted')\n",
        "    f1 = f1_score(y_true, y_pred, average='weighted')\n",
        "\n",
        "    print(f\"\\n{model_name} Performance Metrics:\")\n",
        "    print(f\"Accuracy: {accuracy:.4f}\")\n",
        "    print(f\"Precision: {precision:.4f}\")\n",
        "    print(f\"Recall: {recall:.4f}\")\n",
        "    print(f\"F1-Score: {f1:.4f}\")\n",
        "    print(f\"\\nClassification Report for {model_name}:\")\n",
        "    print(classification_report(y_true, y_pred, target_names=iris.target_names))\n",
        "\n",
        "# Evaluate SVM model\n",
        "evaluate_model(y_test, svm_pred, \"SVM\")\n",
        "\n",
        "# Evaluate Random Forest model\n",
        "evaluate_model(y_test, rf_pred, \"Random Forest\")\n",
        "\n",
        "# Compare models\n",
        "print(\"\\nModel Comparison Summary:\")\n",
        "print(f\"SVM Accuracy: {accuracy_score(y_test, svm_pred):.4f}\")\n",
        "print(f\"Random Forest Accuracy: {accuracy_score(y_test, rf_pred):.4f}\")"
      ]
    }
  ]
}